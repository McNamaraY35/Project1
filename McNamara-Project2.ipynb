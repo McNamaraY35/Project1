{
 "cells": [
  {
   "cell_type": "code",
   "execution_count": 9,
   "metadata": {
    "collapsed": true,
    "deletable": true,
    "editable": true
   },
   "outputs": [],
   "source": [
    "# Load pickled data\n",
    "import pickle\n",
    "\n",
    "training_file = 'train.p'\n",
    "validation_file= 'valid.p'\n",
    "testing_file = 'test.p'\n",
    "\n",
    "with open(training_file, mode='rb') as f:\n",
    "    train = pickle.load(f)\n",
    "with open(validation_file, mode='rb') as f:\n",
    "    valid = pickle.load(f)\n",
    "with open(testing_file, mode='rb') as f:\n",
    "    test = pickle.load(f)\n",
    "    \n",
    "X_train, y_train = train['features'], train['labels']\n",
    "X_valid, y_valid = valid['features'], valid['labels']\n",
    "X_test, y_test = test['features'], test['labels']"
   ]
  },
  {
   "cell_type": "code",
   "execution_count": 10,
   "metadata": {
    "collapsed": false,
    "deletable": true,
    "editable": true
   },
   "outputs": [
    {
     "name": "stdout",
     "output_type": "stream",
     "text": [
      "Number of training examples = 34799\n",
      "Number of testing examples = 12630\n",
      "Image data shape = (32, 32, 3)\n",
      "Number of classes = 43\n"
     ]
    }
   ],
   "source": [
    "#Data Summary\n",
    "\n",
    "# Number of training examples\n",
    "n_train = len(X_train)\n",
    "\n",
    "# Number of testing examples.\n",
    "n_test = len(X_test)\n",
    "\n",
    "# Traffic sign image shape\n",
    "image_shape = X_train[0].shape\n",
    "\n",
    "# Classes/labels in the dataset.\n",
    "n_classes = len(set(y_train))\n",
    "\n",
    "print(\"Number of training examples =\", n_train)\n",
    "print(\"Number of testing examples =\", n_test)\n",
    "print(\"Image data shape =\", image_shape)\n",
    "print(\"Number of classes =\", n_classes)"
   ]
  },
  {
   "cell_type": "code",
   "execution_count": 11,
   "metadata": {
    "collapsed": false,
    "deletable": true,
    "editable": true
   },
   "outputs": [
    {
     "name": "stdout",
     "output_type": "stream",
     "text": [
      "31\n"
     ]
    },
    {
     "data": {
      "image/png": "[encoded data removed]",
      "text/plain": [
       "<matplotlib.figure.Figure at 0x24a9fe046d8>"
      ]
     },
     "metadata": {},
     "output_type": "display_data"
    }
   ],
   "source": [
    "### Data visualization\n",
    "\n",
    "import matplotlib.pyplot as plt\n",
    "\n",
    "%matplotlib inline\n",
    "\n",
    "import random\n",
    "import numpy as np\n",
    "\n",
    "\n",
    "index = random.randint(0, len(X_train))\n",
    "image = X_train[index].squeeze()\n",
    "\n",
    "plt.figure(figsize=(1,1))\n",
    "plt.imshow(image, cmap=\"gray\")\n",
    "print(y_train[index])"
   ]
  },
  {
   "cell_type": "code",
   "execution_count": 12,
   "metadata": {
    "collapsed": false,
    "deletable": true,
    "editable": true
   },
   "outputs": [
    {
     "data": {
      "text/plain": [
       "<matplotlib.image.AxesImage at 0x24aa1a59c50>"
      ]
     },
     "execution_count": 12,
     "metadata": {},
     "output_type": "execute_result"
    },
    {
     "data": {
      "image/png": "[encoded data removed]",
      "text/plain": [
       "<matplotlib.figure.Figure at 0x24aa0036940>"
      ]
     },
     "metadata": {},
     "output_type": "display_data"
    }
   ],
   "source": [
    "### Data Preprocessing\n",
    "\n",
    "from sklearn.utils import shuffle\n",
    "\n",
    "#shuffle\n",
    "X_train, y_train = shuffle(X_train, y_train)\n",
    "\n",
    "#store unnormalized dataset as backup\n",
    "X_train_back = X_train\n",
    "X_test_back = X_test\n",
    "\n",
    "# Normalise input\n",
    "X_train = (X_train - X_train.mean()) / (np.max(X_train) - np.min(X_train))\n",
    "X_test = (X_test - X_test.mean()) / (np.max(X_test) - np.min(X_test))\n",
    "\n",
    "index = random.randint(0, len(X_train))\n",
    "plt.subplot(2,2,1)\n",
    "plt.imshow(X_train_back[index])\n",
    "plt.subplot(2,2,2)\n",
    "plt.imshow(X_train[index])"
   ]
  },
  {
   "cell_type": "code",
   "execution_count": 18,
   "metadata": {
    "collapsed": true,
    "deletable": true,
    "editable": true
   },
   "outputs": [],
   "source": [
    "### Model architecture\n",
    "\n",
    "import tensorflow as tf\n",
    "\n",
    "EPOCHS = 65\n",
    "BATCH_SIZE = 128\n",
    "\n",
    "from tensorflow.contrib.layers import flatten\n",
    "\n",
    "def LeNet(x):    \n",
    "    # Hyperparameters\n",
    "    mu = 0\n",
    "    sigma = 0.1\n",
    "\n",
    "    # SOLUTION: Layer 1: Convolutional. Input = 32x32x3. Output = 28x28x18.\n",
    "    conv1_W = tf.Variable(tf.truncated_normal(shape=(5, 5, 3, 18), mean = mu, stddev = sigma))\n",
    "    conv1_b = tf.Variable(tf.zeros(18))\n",
    "    conv1   = tf.nn.conv2d(x, conv1_W, strides=[1, 1, 1, 1], padding='VALID') + conv1_b\n",
    "\n",
    "    # SOLUTION: Activation.\n",
    "    conv1 = tf.nn.relu(conv1)\n",
    "\n",
    "    # SOLUTION: Pooling. Input = 28x28x18. Output = 14x14x18.\n",
    "    conv1 = tf.nn.max_pool(conv1, ksize=[1, 2, 2, 1], strides=[1, 2, 2, 1], padding='VALID')\n",
    "\n",
    "    # SOLUTION: Layer 2: Convolutional. Output = 10x10x48.\n",
    "    conv2_W = tf.Variable(tf.truncated_normal(shape=(5, 5, 18, 48), mean = mu, stddev = sigma))\n",
    "    conv2_b = tf.Variable(tf.zeros(48))\n",
    "    conv2   = tf.nn.conv2d(conv1, conv2_W, strides=[1, 1, 1, 1], padding='VALID') + conv2_b\n",
    "\n",
    "    # SOLUTION: Activation.\n",
    "    conv2 = tf.nn.relu(conv2)\n",
    "\n",
    "    # SOLUTION: Pooling. Input = 10x10x48. Output = 5x5x48.\n",
    "    conv2 = tf.nn.max_pool(conv2, ksize=[1, 2, 2, 1], strides=[1, 2, 2, 1], padding='VALID')\n",
    "\n",
    "    # SOLUTION: Flatten. Input = 5x5x48. Output = 1200.\n",
    "    fc0   = flatten(conv2)\n",
    "\n",
    "    # SOLUTION: Layer 3: Fully Connected. Input = 1200. Output = 400.\n",
    "    fc1_W = tf.Variable(tf.truncated_normal(shape=(1200, 400), mean = mu, stddev = sigma))\n",
    "    fc1_b = tf.Variable(tf.zeros(400))\n",
    "    fc1   = tf.matmul(fc0, fc1_W) + fc1_b\n",
    "\n",
    "    # SOLUTION: Activation.\n",
    "    fc1    = tf.nn.relu(fc1)\n",
    "\n",
    "    # SOLUTION: Layer 4: Fully Connected. Input = 400. Output = 120.\n",
    "    fc2_W  = tf.Variable(tf.truncated_normal(shape=(400, 120), mean = mu, stddev = sigma))\n",
    "    fc2_b  = tf.Variable(tf.zeros(120))\n",
    "    fc2    = tf.matmul(fc1, fc2_W) + fc2_b\n",
    "\n",
    "    # SOLUTION: Activation.\n",
    "    fc2    = tf.nn.relu(fc2)\n",
    "\n",
    "    # SOLUTION: Layer 5: Fully Connected. Input = 120. Output = 43.\n",
    "    fc3_W  = tf.Variable(tf.truncated_normal(shape=(120, 43), mean = mu, stddev = sigma))\n",
    "    fc3_b  = tf.Variable(tf.zeros(43))\n",
    "    logits = tf.matmul(fc2, fc3_W) + fc3_b\n",
    "\n",
    "    return logits"
   ]
  },
  {
   "cell_type": "code",
   "execution_count": 19,
   "metadata": {
    "collapsed": false,
    "deletable": true,
    "editable": true
   },
   "outputs": [
    {
     "name": "stdout",
     "output_type": "stream",
     "text": [
      "Training...\n",
      "\n",
      "EPOCH 1 ...\n",
      "Validation Accuracy = 0.787\n",
      "\n",
      "EPOCH 2 ...\n",
      "Validation Accuracy = 0.831\n",
      "\n",
      "EPOCH 3 ...\n",
      "Validation Accuracy = 0.841\n",
      "\n",
      "EPOCH 4 ...\n",
      "Validation Accuracy = 0.866\n",
      "\n",
      "EPOCH 5 ...\n",
      "Validation Accuracy = 0.868\n",
      "\n",
      "EPOCH 6 ...\n",
      "Validation Accuracy = 0.892\n",
      "\n",
      "EPOCH 7 ...\n",
      "Validation Accuracy = 0.888\n",
      "\n",
      "EPOCH 8 ...\n",
      "Validation Accuracy = 0.904\n",
      "\n",
      "EPOCH 9 ...\n",
      "Validation Accuracy = 0.891\n",
      "\n",
      "EPOCH 10 ...\n",
      "Validation Accuracy = 0.896\n",
      "\n",
      "EPOCH 11 ...\n",
      "Validation Accuracy = 0.901\n",
      "\n",
      "EPOCH 12 ...\n",
      "Validation Accuracy = 0.908\n",
      "\n",
      "EPOCH 13 ...\n",
      "Validation Accuracy = 0.914\n",
      "\n",
      "EPOCH 14 ...\n",
      "Validation Accuracy = 0.902\n",
      "\n",
      "EPOCH 15 ...\n",
      "Validation Accuracy = 0.883\n",
      "\n",
      "EPOCH 16 ...\n",
      "Validation Accuracy = 0.910\n",
      "\n",
      "EPOCH 17 ...\n",
      "Validation Accuracy = 0.910\n",
      "\n",
      "EPOCH 18 ...\n",
      "Validation Accuracy = 0.899\n",
      "\n",
      "EPOCH 19 ...\n",
      "Validation Accuracy = 0.901\n",
      "\n",
      "EPOCH 20 ...\n",
      "Validation Accuracy = 0.901\n",
      "\n",
      "EPOCH 21 ...\n",
      "Validation Accuracy = 0.929\n",
      "\n",
      "EPOCH 22 ...\n",
      "Validation Accuracy = 0.926\n",
      "\n",
      "EPOCH 23 ...\n",
      "Validation Accuracy = 0.924\n",
      "\n",
      "EPOCH 24 ...\n",
      "Validation Accuracy = 0.925\n",
      "\n",
      "EPOCH 25 ...\n",
      "Validation Accuracy = 0.926\n",
      "\n",
      "EPOCH 26 ...\n",
      "Validation Accuracy = 0.926\n",
      "\n",
      "EPOCH 27 ...\n",
      "Validation Accuracy = 0.926\n",
      "\n",
      "EPOCH 28 ...\n",
      "Validation Accuracy = 0.926\n",
      "\n",
      "EPOCH 29 ...\n",
      "Validation Accuracy = 0.926\n",
      "\n",
      "EPOCH 30 ...\n",
      "Validation Accuracy = 0.925\n",
      "\n",
      "EPOCH 31 ...\n",
      "Validation Accuracy = 0.925\n",
      "\n",
      "EPOCH 32 ...\n",
      "Validation Accuracy = 0.925\n",
      "\n",
      "EPOCH 33 ...\n",
      "Validation Accuracy = 0.926\n",
      "\n",
      "EPOCH 34 ...\n",
      "Validation Accuracy = 0.926\n",
      "\n",
      "EPOCH 35 ...\n",
      "Validation Accuracy = 0.926\n",
      "\n",
      "EPOCH 36 ...\n",
      "Validation Accuracy = 0.925\n",
      "\n",
      "EPOCH 37 ...\n",
      "Validation Accuracy = 0.926\n",
      "\n",
      "EPOCH 38 ...\n",
      "Validation Accuracy = 0.926\n",
      "\n",
      "EPOCH 39 ...\n",
      "Validation Accuracy = 0.927\n",
      "\n",
      "EPOCH 40 ...\n",
      "Validation Accuracy = 0.926\n",
      "\n",
      "EPOCH 41 ...\n",
      "Validation Accuracy = 0.926\n",
      "\n",
      "EPOCH 42 ...\n",
      "Validation Accuracy = 0.927\n",
      "\n",
      "EPOCH 43 ...\n",
      "Validation Accuracy = 0.927\n",
      "\n",
      "EPOCH 44 ...\n",
      "Validation Accuracy = 0.926\n",
      "\n",
      "EPOCH 45 ...\n",
      "Validation Accuracy = 0.926\n",
      "\n",
      "EPOCH 46 ...\n",
      "Validation Accuracy = 0.926\n",
      "\n",
      "EPOCH 47 ...\n",
      "Validation Accuracy = 0.925\n",
      "\n",
      "EPOCH 48 ...\n",
      "Validation Accuracy = 0.926\n",
      "\n",
      "EPOCH 49 ...\n",
      "Validation Accuracy = 0.925\n",
      "\n",
      "EPOCH 50 ...\n",
      "Validation Accuracy = 0.925\n",
      "\n",
      "EPOCH 51 ...\n",
      "Validation Accuracy = 0.925\n",
      "\n",
      "EPOCH 52 ...\n",
      "Validation Accuracy = 0.924\n",
      "\n",
      "EPOCH 53 ...\n",
      "Validation Accuracy = 0.924\n",
      "\n",
      "EPOCH 54 ...\n",
      "Validation Accuracy = 0.924\n",
      "\n",
      "EPOCH 55 ...\n",
      "Validation Accuracy = 0.924\n",
      "\n",
      "EPOCH 56 ...\n",
      "Validation Accuracy = 0.923\n",
      "\n",
      "EPOCH 57 ...\n",
      "Validation Accuracy = 0.923\n",
      "\n",
      "EPOCH 58 ...\n",
      "Validation Accuracy = 0.922\n",
      "\n",
      "EPOCH 59 ...\n",
      "Validation Accuracy = 0.923\n",
      "\n",
      "EPOCH 60 ...\n",
      "Validation Accuracy = 0.922\n",
      "\n",
      "EPOCH 61 ...\n",
      "Validation Accuracy = 0.922\n",
      "\n",
      "EPOCH 62 ...\n",
      "Validation Accuracy = 0.923\n",
      "\n",
      "EPOCH 63 ...\n",
      "Validation Accuracy = 0.922\n",
      "\n",
      "EPOCH 64 ...\n",
      "Validation Accuracy = 0.922\n",
      "\n",
      "EPOCH 65 ...\n",
      "Validation Accuracy = 0.923\n",
      "\n",
      "Model saved\n"
     ]
    }
   ],
   "source": [
    "### Train Model\n",
    "\n",
    "x = tf.placeholder(tf.float32, (None, 32, 32, 3))\n",
    "y = tf.placeholder(tf.int32, (None))\n",
    "one_hot_y = tf.one_hot(y, 43)\n",
    "\n",
    "rate = 0.001\n",
    "\n",
    "logits = LeNet(x)\n",
    "cross_entropy = tf.nn.softmax_cross_entropy_with_logits(logits, one_hot_y)\n",
    "loss_operation = tf.reduce_mean(cross_entropy)\n",
    "optimizer = tf.train.AdamOptimizer(learning_rate = rate)\n",
    "training_operation = optimizer.minimize(loss_operation)\n",
    "\n",
    "correct_prediction = tf.equal(tf.argmax(logits, 1), tf.argmax(one_hot_y, 1))\n",
    "accuracy_operation = tf.reduce_mean(tf.cast(correct_prediction, tf.float32))\n",
    "saver = tf.train.Saver()\n",
    "\n",
    "def evaluate(X_data, y_data):\n",
    "    num_examples = len(X_data)\n",
    "    total_accuracy = 0\n",
    "    sess = tf.get_default_session()\n",
    "    for offset in range(0, num_examples, BATCH_SIZE):\n",
    "        batch_x, batch_y = X_data[offset:offset+BATCH_SIZE], y_data[offset:offset+BATCH_SIZE]\n",
    "        accuracy = sess.run(accuracy_operation, feed_dict={x: batch_x, y: batch_y})\n",
    "        total_accuracy += (accuracy * len(batch_x))\n",
    "    return total_accuracy / num_examples\n",
    "\n",
    "with tf.Session() as sess:\n",
    "    sess.run(tf.global_variables_initializer())\n",
    "    num_examples = len(X_train)\n",
    "    \n",
    "    print(\"Training...\")\n",
    "    print()\n",
    "    for i in range(EPOCHS):\n",
    "        X_train, y_train = shuffle(X_train, y_train)\n",
    "        for offset in range(0, num_examples, BATCH_SIZE):\n",
    "            end = offset + BATCH_SIZE\n",
    "            batch_x, batch_y = X_train[offset:end], y_train[offset:end]\n",
    "            sess.run(training_operation, feed_dict={x: batch_x, y: batch_y})\n",
    "            \n",
    "        validation_accuracy = evaluate(X_valid, y_valid)\n",
    "        print(\"EPOCH {} ...\".format(i+1))\n",
    "        print(\"Validation Accuracy = {:.3f}\".format(validation_accuracy))\n",
    "        print()\n",
    "        \n",
    "    saver.save(sess, './lenet')\n",
    "    print(\"Model saved\")"
   ]
  },
  {
   "cell_type": "code",
   "execution_count": 21,
   "metadata": {
    "collapsed": false,
    "deletable": true,
    "editable": true
   },
   "outputs": [
    {
     "data": {
      "image/png": "[encoded data removed]",
      "text/plain": [
       "<matplotlib.figure.Figure at 0x24aa009fc50>"
      ]
     },
     "metadata": {},
     "output_type": "display_data"
    },
    {
     "data": {
      "image/png": "[encoded data removed]",
      "text/plain": [
       "<matplotlib.figure.Figure at 0x24aaddd1898>"
      ]
     },
     "metadata": {},
     "output_type": "display_data"
    },
    {
     "data": {
      "image/png": "[encoded data removed]",
      "text/plain": [
       "<matplotlib.figure.Figure at 0x24aadd7f5f8>"
      ]
     },
     "metadata": {},
     "output_type": "display_data"
    },
    {
     "data": {
      "image/png": "[encoded data removed]",
      "text/plain": [
       "<matplotlib.figure.Figure at 0x24aadecd3c8>"
      ]
     },
     "metadata": {},
     "output_type": "display_data"
    },
    {
     "data": {
      "image/png": "[encoded data removed]",
      "text/plain": [
       "<matplotlib.figure.Figure at 0x24aae6aab38>"
      ]
     },
     "metadata": {},
     "output_type": "display_data"
    }
   ],
   "source": [
    "### Load images\n",
    "import cv2, os\n",
    "import matplotlib.image as mpimg\n",
    "from skimage import transform\n",
    "imgs = []\n",
    "for file in os.listdir(\"test_signs\"):\n",
    "    if file.endswith(\".jpg\"):\n",
    "        img = mpimg.imread(file)\n",
    "        img = cv2.resize(img, (32, 32)) \n",
    "        imgs.append(img)\n",
    "        plt.figure(figsize=(0.5,0.5))\n",
    "        plt.imshow(img)\n",
    "      "
   ]
  },
  {
   "cell_type": "code",
   "execution_count": 22,
   "metadata": {
    "collapsed": false,
    "deletable": true,
    "editable": true
   },
   "outputs": [
    {
     "name": "stdout",
     "output_type": "stream",
     "text": [
      "Classifications\n"
     ]
    },
    {
     "data": {
      "image/png": "[encoded data removed]",
      "text/plain": [
       "<matplotlib.figure.Figure at 0x24a9ffa05f8>"
      ]
     },
     "metadata": {},
     "output_type": "display_data"
    },
    {
     "data": {
      "image/png": "[encoded data removed]",
      "text/plain": [
       "<matplotlib.figure.Figure at 0x24aade5da90>"
      ]
     },
     "metadata": {},
     "output_type": "display_data"
    },
    {
     "data": {
      "image/png": "[encoded data removed]",
      "text/plain": [
       "<matplotlib.figure.Figure at 0x24aba30f6d8>"
      ]
     },
     "metadata": {},
     "output_type": "display_data"
    },
    {
     "data": {
      "image/png": "[encoded data removed]",
      "text/plain": [
       "<matplotlib.figure.Figure at 0x24aade99a20>"
      ]
     },
     "metadata": {},
     "output_type": "display_data"
    },
    {
     "data": {
      "image/png": "[encoded data removed]",
      "text/plain": [
       "<matplotlib.figure.Figure at 0x24aba605390>"
      ]
     },
     "metadata": {},
     "output_type": "display_data"
    }
   ],
   "source": [
    "### Run prediction\n",
    "import pandas as pd\n",
    "\n",
    "\n",
    "\n",
    "images = np.array(imgs)\n",
    "\n",
    "images_norm = (images - images.mean()) / (np.max(images) - np.min(images))\n",
    "\n",
    "\n",
    "with tf.Session() as sess:\n",
    "    saver.restore(sess, tf.train.latest_checkpoint('.'))\n",
    "    sess = tf.get_default_session()\n",
    "    classification = sess.run(tf.nn.softmax(logits), feed_dict={x: images_norm, y: batch_y})\n",
    "    print(\"Classifications\")\n",
    "\n",
    "    classifications=(np.argmax(classification,axis=1))\n",
    "    \n",
    "    names=pd.read_csv('signnames.csv', sep=',')\n",
    "    \n",
    "    test_index=0\n",
    "    \n",
    "    for i in classifications:\n",
    "        plt.figure(figsize=(2,2))\n",
    "        plt.suptitle(names[names['ClassId']==i]['SignName'][i])\n",
    "        plt.subplot(2,2,1)\n",
    "        plt.imshow(imgs[test_index])\n",
    "        plt.subplot(2,2,2)\n",
    "        plt.imshow(images_norm[test_index])\n",
    "        test_index= test_index+1"
   ]
  },
  {
   "cell_type": "code",
   "execution_count": 61,
   "metadata": {
    "collapsed": false,
    "deletable": true,
    "editable": true
   },
   "outputs": [],
   "source": [
    "### Calculate the accuracy \n",
    "60% correct.  It missed the 80MPH sign and got slippery road wrong"
   ]
  },
  {
   "cell_type": "code",
   "execution_count": 24,
   "metadata": {
    "collapsed": false,
    "deletable": true,
    "editable": true
   },
   "outputs": [
    {
     "name": "stdout",
     "output_type": "stream",
     "text": [
      "Top 3 Classifications\n",
      "TopKV2(values=array([[  9.99853730e-01,   1.34728107e-04,   9.34601940e-06],\n",
      "       [  9.99999642e-01,   4.02403174e-07,   1.55934900e-12],\n",
      "       [  1.00000000e+00,   3.61195284e-37,   0.00000000e+00],\n",
      "       [  1.00000000e+00,   3.90288468e-10,   3.16726165e-13],\n",
      "       [  1.00000000e+00,   2.58035725e-18,   3.41035811e-24]], dtype=float32), indices=array([[26,  8,  0],\n",
      "       [14,  1, 13],\n",
      "       [ 9, 41,  0],\n",
      "       [32,  6, 41],\n",
      "       [11, 30, 23]]))\n"
     ]
    }
   ],
   "source": [
    "### Top five softmax probabilities for the predictions \n",
    "\n",
    "import heapq\n",
    "\n",
    "with tf.Session() as sess:\n",
    "    saver.restore(sess, tf.train.latest_checkpoint('.'))\n",
    "    sess = tf.get_default_session()\n",
    "    tops = sess.run((tf.nn.top_k(tf.constant(classification), k=3)))\n",
    "    print(\"Top 3 Classifications\")\n",
    "\n",
    "    print(tops)"
   ]
  },
  {
   "cell_type": "code",
   "execution_count": null,
   "metadata": {
    "collapsed": true
   },
   "outputs": [],
   "source": []
  }
 ],
 "metadata": {
  "kernelspec": {
   "display_name": "Python 3",
   "language": "python",
   "name": "python3"
  },
  "language_info": {
   "codemirror_mode": {
    "name": "ipython",
    "version": 3
   },
   "file_extension": ".py",
   "mimetype": "text/x-python",
   "name": "python",
   "nbconvert_exporter": "python",
   "pygments_lexer": "ipython3",
   "version": "3.5.2"
  },
  "widgets": {
   "state": {},
   "version": "1.1.2"
  }
 },
 "nbformat": 4,
 "nbformat_minor": 2
}
